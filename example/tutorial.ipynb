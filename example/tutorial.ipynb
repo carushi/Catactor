{
 "cells": [
  {
   "cell_type": "markdown",
   "metadata": {},
   "source": [
    "## Analyzing multiple scATAC-seq datasets for mouse brain using Catactor\n",
    "* Risa K. Kawaguchi, et al (to be published).\n",
    "* 2020.12.xx\n",
    "\n"
   ]
  },
  {
   "cell_type": "code",
   "execution_count": null,
   "metadata": {},
   "outputs": [],
   "source": [
    "## Download and preprocess datasets\n",
    "* From GEO (gene expression omnibus)\n",
    " * GSE100033\n",
    " * GSE111586\n",
    " * GSE123576\n",
    " * GSE126074\n",
    " * GSE127257\n",
    " * GSE130399\n",
    "* From BICCN database\n",
    " * BICCN (SnapATAC objects)"
   ]
  },
  {
   "cell_type": "code",
   "execution_count": null,
   "metadata": {},
   "outputs": [],
   "source": [
    "## Assumed data structure\n",
    "data_directory/\n",
    "* GSE100033\n",
    "* GSE111586\n",
    "* GSE123576\n",
    "* GSE126074\n",
    "* GSE127257\n",
    "* GSE1303990 <- Adult dataset \n",
    "* GSE1303991 <- Fetal dataset (unused)\n",
    "* BICCN"
   ]
  },
  {
   "cell_type": "markdown",
   "metadata": {},
   "source": [
    "## Data preprocessing to produce sparse matrix and csv matrices for Catactor\n",
    "Place original data to a specific directory and apply preprocessing to make matrices in the same format.\n"
   ]
  },
  {
   "cell_type": "code",
   "execution_count": 1,
   "metadata": {
    "collapsed": true,
    "jupyter": {
     "outputs_hidden": true
    }
   },
   "outputs": [
    {
     "ename": "SyntaxError",
     "evalue": "invalid syntax (<ipython-input-1-4de34512f47a>, line 1)",
     "output_type": "error",
     "traceback": [
      "\u001b[0;36m  File \u001b[0;32m\"<ipython-input-1-4de34512f47a>\"\u001b[0;36m, line \u001b[0;32m1\u001b[0m\n\u001b[0;31m    python data_preprocess.py GSE100033\u001b[0m\n\u001b[0m                         ^\u001b[0m\n\u001b[0;31mSyntaxError\u001b[0m\u001b[0;31m:\u001b[0m invalid syntax\n"
     ]
    }
   ],
   "source": [
    "python data_preprocess.py GSE100033 directory/of/downloaded/data\n",
    "python data_preprocess.py GSE111586 directory/of/downloaded/data\n",
    "python data_preprocess.py GSE123576 directory/of/downloaded/data\n",
    "python data_preprocess.py GSE126074 directory/of/downloaded/data\n",
    "python data_preprocess.py GSE127257 directory/of/downloaded/data\n",
    "python data_preprocess.py GSE130399 directory/of/downloaded/data\n",
    "\n",
    "# BICCN scRNA-seq data\n",
    "python data_preprocess.py BICCN2 directory/of/downloaded/data\n",
    "\n",
    "# BICCN scATAC-seq data preprocessing\n",
    "python biccn_data_reading.py directory/of/downloaded/data"
   ]
  },
  {
   "cell_type": "code",
   "execution_count": null,
   "metadata": {},
   "outputs": [],
   "source": [
    "## Annotation\n",
    "* Add genomic bin ids\n",
    "* Add closest gene ids\n"
   ]
  },
  {
   "cell_type": "code",
   "execution_count": null,
   "metadata": {},
   "outputs": [],
   "source": [
    "ls *bin_ng.csv | grep -v with_bins | Catactor column_annotation {} | bash\n",
    "ls *with_bins.csv | xargs -I{} Rscript annotation_metadata.R promoter {}"
   ]
  },
  {
   "cell_type": "code",
   "execution_count": null,
   "metadata": {},
   "outputs": [],
   "source": []
  },
  {
   "cell_type": "code",
   "execution_count": null,
   "metadata": {},
   "outputs": [],
   "source": []
  }
 ],
 "metadata": {
  "kernelspec": {
   "display_name": "Python 3",
   "language": "python",
   "name": "python3"
  },
  "language_info": {
   "codemirror_mode": {
    "name": "ipython",
    "version": 3
   },
   "file_extension": ".py",
   "mimetype": "text/x-python",
   "name": "python",
   "nbconvert_exporter": "python",
   "pygments_lexer": "ipython3",
   "version": "3.7.5"
  }
 },
 "nbformat": 4,
 "nbformat_minor": 4
}
