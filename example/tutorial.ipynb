{
 "cells": [
  {
   "cell_type": "markdown",
   "metadata": {},
   "source": [
    "## Analyzing multiple scATAC-seq datasets for mouse brain using Catactor\n",
    "* Risa K. Kawaguchi, et al (to be published).\n",
    "* 2020.12.xx\n",
    "\n"
   ]
  },
  {
   "cell_type": "markdown",
   "metadata": {},
   "source": [
    "## Download and preprocess datasets\n",
    "* From GEO (gene expression omnibus)\n",
    " * GSE100033\n",
    " * GSE111586\n",
    " * GSE123576\n",
    " * GSE126074\n",
    " * GSE127257\n",
    " * GSE130399\n",
    "* From BICCN database\n",
    " * BICCN (SnapATAC objects)\n",
    " * BICCN SMART-seq v2 data"
   ]
  },
  {
   "cell_type": "markdown",
   "metadata": {},
   "source": [
    "## Assumed data structure\n",
    "### Raw matrix data\n",
    "raw_data/\n",
    "* GSE100033\n",
    "* GSE111586\n",
    "* GSE123576\n",
    "* GSE126074\n",
    "* GSE127257\n",
    "* GSE130399\n",
    "* BICCN\n",
    "* BICCN_rna\n",
    "\n",
    "### Processed data\n",
    "mat_data/\n",
    "* GSE100033\n",
    "* GSE111586\n",
    "* GSE123576\n",
    "* GSE126074\n",
    "* GSE127257\n",
    "* GSE1303990 <- Adult dataset \n",
    "* GSE1303991 <- Fetal dataset (unused)\n",
    "* BICCN\n",
    "* BICCN_rna"
   ]
  },
  {
   "cell_type": "code",
   "execution_count": null,
   "metadata": {},
   "outputs": [
    {
     "name": "stdout",
     "output_type": "stream",
     "text": [
      "GSE100033 processing...\n",
      "python ../script/data_processing/data_preprocess.py GSE100033 ../raw_data/GSE100033 ../mat_data/GSE100033\n"
     ]
    }
   ],
   "source": [
    "# Construct matrix data\n",
    "import os\n",
    "import subprocess\n",
    "script_dir = \"../script/data_processing\"\n",
    "input_dir = \"../raw_data\"\n",
    "output_dir = \"../mat_data\"\n",
    "\n",
    "GSE_list = ['GSE100033', 'GSE111586', 'GSE123576', 'GSE126074', 'GSE127257', 'GSE130399', 'BICCN_rna']\n",
    "GSE_dir = ['GSE100033', 'GSE111586', 'GSE123576', 'GSE126074', 'GSE127257', 'GSE1303990', 'BICCN_rna']\n",
    "for gse, dir in zip(GSE_list, GSE_dir):\n",
    "    print(gse+' processing...')\n",
    "    arg_list = ['python', os.path.join(script_dir, 'data_preprocess.py'), gse, os.path.join(input_dir, gse), os.path.join(output_dir, dir)]\n",
    "    print(' '.join(arg_list))\n",
    "    subprocess.run(arg_list)\n"
   ]
  },
  {
   "cell_type": "code",
   "execution_count": 9,
   "metadata": {},
   "outputs": [
    {
     "name": "stdout",
     "output_type": "stream",
     "text": [
      "['Rscript', '../script/data_processing/snap_atac_to_text.R', '../raw_data/BICCN', '../mat_data/BICCN']\n",
      "['python', '../script/data_processing/biccn_data_reading.py', '../mat_data/BICCN', '../mat_data/BICCN']\n"
     ]
    }
   ],
   "source": [
    "# BICCN scATAC-seq data preprocessing\n",
    "script_dir = \"../script/data_processing\"\n",
    "input_dir = \"../raw_data/BICCN\"\n",
    "output_dir = \"../mat_data/BICCN\"\n",
    "# ulimit -s 100000 #if needed\n",
    "\n",
    "arg_list = ['Rscript', os.path.join(script_dir, 'snap_atac_to_text.R'), input_dir, output_dir]\n",
    "print(' '.join(arg_list))\n",
    "# subprocess.run(arg_list)"
   ]
  },
  {
   "cell_type": "code",
   "execution_count": null,
   "metadata": {},
   "outputs": [],
   "source": [
    "arg_list = ['python', os.path.join(script_dir, 'biccn_data_reading.py'), output_dir, output_dir]\n",
    "print(' '.join(arg_list))\n",
    "subprocess.run(arg_list)"
   ]
  },
  {
   "cell_type": "code",
   "execution_count": null,
   "metadata": {},
   "outputs": [],
   "source": [
    "# Add a global id for each bin-size\n",
    "import glob\n",
    "for dir in ['GSE100033', 'GSE111586', 'GSE123576', 'GSE126074', 'GSE127257', 'GSE1303990', 'BICCN_rna', 'BICCN']:\n",
    "    for fname in glob.glob(os.path.join(\"../mat_data/\", dir), \"*bin*sv\"):\n",
    "        if 'with_bins' in fname:\n",
    "            continue\n",
    "        if 'gene.csv' in fname:\n",
    "            continue\n",
    "        arg_list = ['python', '../src/Catactor', 'column_annotation', fname]\n",
    "        print(' '.join(fname))\n",
    "        #subprocess.run(arg_list)\n"
   ]
  },
  {
   "cell_type": "code",
   "execution_count": null,
   "metadata": {},
   "outputs": [],
   "source": [
    "# Associate the closest gene ids\n",
    "import glob\n",
    "for dir in ['GSE100033', 'GSE111586', 'GSE123576', 'GSE126074', 'GSE127257', 'GSE1303990', 'BICCN_rna', 'BICCN']:\n",
    "    for fname in glob.glob(os.path.join(\"../mat_data/\", dir), \"*bin*sv\"):\n",
    "        if 'with_bins' in fname:\n",
    "            continue\n",
    "        if 'gene.csv' in fname:\n",
    "            continue\n",
    "        arg_list = ['python', '../src/Catactor', 'column_annotation', fname]\n",
    "        print(' '.join(fname))\n",
    "        #subprocess.run(arg_list)\n"
   ]
  },
  {
   "cell_type": "markdown",
   "metadata": {},
   "source": [
    "## Data preprocessing to produce sparse matrix and csv matrices for Catactor\n",
    "Place original data to a specific directory and apply preprocessing to make matrices in the same format.\n"
   ]
  },
  {
   "cell_type": "code",
   "execution_count": null,
   "metadata": {},
   "outputs": [],
   "source": [
    "## Annotation\n",
    "* Add genomic bin ids\n",
    "* Add closest gene ids\n"
   ]
  },
  {
   "cell_type": "code",
   "execution_count": null,
   "metadata": {},
   "outputs": [],
   "source": [
    "ls *bin_ng.csv | grep -v with_bins | Catactor column_annotation {} | bash\n",
    "ls *with_bins.csv | xargs -I{} Rscript annotation_metadata.R promoter {}"
   ]
  },
  {
   "cell_type": "code",
   "execution_count": null,
   "metadata": {},
   "outputs": [],
   "source": []
  },
  {
   "cell_type": "code",
   "execution_count": null,
   "metadata": {},
   "outputs": [],
   "source": []
  }
 ],
 "metadata": {
  "kernelspec": {
   "display_name": "Python 3",
   "language": "python",
   "name": "python3"
  },
  "language_info": {
   "codemirror_mode": {
    "name": "ipython",
    "version": 3
   },
   "file_extension": ".py",
   "mimetype": "text/x-python",
   "name": "python",
   "nbconvert_exporter": "python",
   "pygments_lexer": "ipython3",
   "version": "3.7.5"
  }
 },
 "nbformat": 4,
 "nbformat_minor": 4
}
